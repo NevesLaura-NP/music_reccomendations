{
 "cells": [
  {
   "cell_type": "markdown",
   "metadata": {},
   "source": [
    "# music_reccomendations\n",
    "\n",
    "There were many interesting insights inside the EDA. We can say there was an uneven proportion of genres inside the data set, being Pop the most common and Hip Hop the least common. Certain genres had predominant emotion scores such as Country with predominant Sadness socres. Another interesting insight was the variation of certain Emotion Scores along the decades, when looking at romantic emotions the scores lower with the passing decades and the violence emotion scores rise.\n",
    "\n",
    "There weren't many correlations between the variables besides how Age and Release Date are perfectly negativelly correlated, the Obscene Score and Length of the songs with a positive correlation of 0.44. And the Sadness score has a slightly higher negative correlation of -0.27 with the Obscene Score.\n",
    "\n",
    "After a through EDA I was able to identify that the majority of the columns would need to be kept as they represented diverse informative data upon the characterization and clustering of the songs. I dropped lyrics and track name as they were indisincratic identifyiers and could not offer much information for the EDA or to cluster the songs.\n",
    "\n",
    "\n",
    "iii. What was the optimal number of clusters in your cluster model?\n",
    "Explain how you determined this value.\n",
    "\n",
    "\n",
    "iv. Take a look at the respective songs that fell into your clusters.\n",
    "Describe these clusters in human terms to the best of your ability\n",
    "using the columns in your dataset (for example high-gospel songs,\n",
    "low-gospel songs, etc). Feel free to listen to these songs as well to\n",
    "get a sense of what nuance your algorithm picked up on.\n",
    "v. Take a look at the clusters that your algorithm assigned to your test\n",
    "samples. Based on these clusters, which songs would you\n",
    "recommend to this user?"
   ]
  }
 ],
 "metadata": {
  "language_info": {
   "name": "python"
  }
 },
 "nbformat": 4,
 "nbformat_minor": 2
}
