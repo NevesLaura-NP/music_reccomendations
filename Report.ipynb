{
 "cells": [
  {
   "cell_type": "markdown",
   "metadata": {},
   "source": [
    "## Report\n",
    "\n",
    "The EDA had a wealth of insightful information. It can be stated that the data set contained an unequal distribution of genres, with Pop being the most prevalent and Hip Hop the least. Some genres had dominating emotion scores, such country music, which had a predominant sadness score. An other intriguing observation was the shift in some Emotion ratings over the years; romantic feelings saw a decline in ratings as the decades went by, while scores for violent emotions increased.\n",
    "\n",
    "Other than the fact that Age and Release Date have a perfect negative connection and that Obscene Score and Song Length have a positive correlation of 0.44, there weren't many correlations between the variables. Furthermore, there is a marginally stronger negative association (-0.27) between the Sadness score and the Obscene score.\n",
    "\n",
    "I was able to determine through EDA that most of the columns would have to be retained because they provided a variety of insightful data regarding the characterization and grouping of the songs. Since the lyrics and track names were idiosyncratic and didn't provide any information for the EDA or help group the music, I dropped them.\n",
    "\n",
    "\n",
    "iii. What was the optimal number of clusters in your cluster model?\n",
    "Explain how you determined this value.\n",
    "\n",
    "Once the data was set for modeling I first utilized the Elbow Method to identify the best number of clusters. Even though\n",
    "\n",
    "iv. Take a look at the respective songs that fell into your clusters.\n",
    "Describe these clusters in human terms to the best of your ability\n",
    "using the columns in your dataset (for example high-gospel songs,\n",
    "low-gospel songs, etc). Feel free to listen to these songs as well to\n",
    "get a sense of what nuance your algorithm picked up on.\n",
    "v. Take a look at the clusters that your algorithm assigned to your test\n",
    "samples. Based on these clusters, which songs would you\n",
    "recommend to this user?"
   ]
  }
 ],
 "metadata": {
  "language_info": {
   "name": "python"
  }
 },
 "nbformat": 4,
 "nbformat_minor": 2
}
